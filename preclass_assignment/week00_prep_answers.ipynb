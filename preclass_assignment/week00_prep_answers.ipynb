{
 "cells": [
  {
   "cell_type": "code",
   "execution_count": 20,
   "metadata": {},
   "outputs": [],
   "source": [
    "# Names\n",
    "# Mohamed Akheel Mohamed Basheer (s242528)\n",
    "# Brandon Emanuel Aguilar Chavez (s242517)"
   ]
  },
  {
   "cell_type": "code",
   "execution_count": 1,
   "metadata": {},
   "outputs": [
    {
     "name": "stdout",
     "output_type": "stream",
     "text": [
      "Hello, world!\n"
     ]
    }
   ],
   "source": [
    "# Define a function called greet that takes a name as a string, then prints \"Hello, <name>!\" to the screen.\n",
    "def greet(name):\n",
    "    print('Hello, ' + name + '!')\n",
    "\n",
    "greet('world')"
   ]
  },
  {
   "cell_type": "code",
   "execution_count": 2,
   "metadata": {},
   "outputs": [
    {
     "name": "stdout",
     "output_type": "stream",
     "text": [
      "Too small! Goldilocks is not happy :(\n",
      "Just right. Goldilocks is happy :)\n",
      "Too large! Goldilocks is not happy :(\n",
      "Just right. Goldilocks is happy :)\n"
     ]
    }
   ],
   "source": [
    "def goldilocks(height_of_bed):\n",
    "    # Function to see whether Goldicoks is happy with the length of the bed\n",
    "    min_desirable_height = 140; #In cm\n",
    "    max_desirable_height = 150; #In cm\n",
    "    if height_of_bed < min_desirable_height:\n",
    "        print ('Too small! Goldilocks is not happy :(')\n",
    "    elif height_of_bed > max_desirable_height:\n",
    "        print ('Too large! Goldilocks is not happy :(')\n",
    "    else:\n",
    "        print ('Just right. Goldilocks is happy :)')\n",
    "\n",
    "\n",
    "goldilocks(139)\n",
    "goldilocks(140)\n",
    "goldilocks(151)\n",
    "goldilocks(150)"
   ]
  },
  {
   "cell_type": "code",
   "execution_count": 6,
   "metadata": {},
   "outputs": [
    {
     "data": {
      "text/plain": [
       "[1, 4, 9]"
      ]
     },
     "execution_count": 6,
     "metadata": {},
     "output_type": "execute_result"
    }
   ],
   "source": [
    "def square_list(list):\n",
    "    #Function to square each element in the list\n",
    "    squared_list = []\n",
    "    for i in list:\n",
    "        squared_list.append(i**2) #Adds the squared value of each number at the end of the empty list\n",
    "    return squared_list\n",
    "square_list([1, 2, 3])"
   ]
  },
  {
   "cell_type": "code",
   "execution_count": 10,
   "metadata": {},
   "outputs": [
    {
     "data": {
      "text/plain": [
       "[1, 1, 2, 3, 5, 8, 13, 21]"
      ]
     },
     "execution_count": 10,
     "metadata": {},
     "output_type": "execute_result"
    }
   ],
   "source": [
    "def fibonacci_stop(n):\n",
    "    #Function to generate fibonacci sequence upto the mentioned \"n\" number\n",
    "    fibonacci_list = []\n",
    "    a = 1\n",
    "    b = 1\n",
    "    while a<n:\n",
    "        fibonacci_list.append(a)\n",
    "        a,b = b, a+b\n",
    "    return fibonacci_list\n",
    "\n",
    "fibonacci_stop(30)"
   ]
  },
  {
   "cell_type": "code",
   "execution_count": 18,
   "metadata": {},
   "outputs": [
    {
     "data": {
      "text/plain": [
       "[-999, 2, 6, 95]"
      ]
     },
     "execution_count": 18,
     "metadata": {},
     "output_type": "execute_result"
    }
   ],
   "source": [
    "def clean_pitch(x, status):\n",
    "    #Function to clean the given pitch angles by setting the bad ones as \"-999\"\n",
    "    x_new = [0]*len(x)\n",
    "    for i in range(len(x)):\n",
    "        if x[i] < 0 or x[i] > 90: #Lying outside the nominal pitch angle of 0 to 90 deg\n",
    "            if status[i] > 0: #Having some errors\n",
    "                x_new[i] = -999 #Error value\n",
    "            else:\n",
    "                x_new[i] = x[i] #Outlying but no errors\n",
    "        else:\n",
    "            x_new[i] = x[i] #Within nominal pitch range\n",
    "    return x_new\n",
    "    \n",
    "x = [-1, 2, 6, 95]\n",
    "status = [1, 0, 0, 0]\n",
    "clean_pitch(x, status)\n",
    "\n",
    "            \n"
   ]
  },
  {
   "cell_type": "code",
   "execution_count": null,
   "metadata": {},
   "outputs": [],
   "source": []
  }
 ],
 "metadata": {
  "kernelspec": {
   "display_name": "base",
   "language": "python",
   "name": "python3"
  },
  "language_info": {
   "codemirror_mode": {
    "name": "ipython",
    "version": 3
   },
   "file_extension": ".py",
   "mimetype": "text/x-python",
   "name": "python",
   "nbconvert_exporter": "python",
   "pygments_lexer": "ipython3",
   "version": "3.11.11"
  }
 },
 "nbformat": 4,
 "nbformat_minor": 2
}
